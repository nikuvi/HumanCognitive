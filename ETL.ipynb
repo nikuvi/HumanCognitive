{
 "cells": [
  {
   "cell_type": "code",
   "execution_count": null,
   "id": "0ec625ab",
   "metadata": {},
   "outputs": [],
   "source": [
    "import numpy as np\n",
    "import pandas as pd\n",
    "import warnings\n",
    "\n",
    "warnings.filterwarnings('ignore')\n",
    "pd.set_option('display.max_rows', None)    # Muestra todas las filas (para muchas columnas)\n",
    "pd.set_option('display.max_columns', None) # Muestra todas las columnas\n",
    "pd.set_option('display.width', None)       # Ajusta el ancho\n",
    "pd.set_option('display.max_colwidth', None)# Muestra todo el contenido de cada celda"
   ]
  },
  {
   "cell_type": "code",
   "execution_count": null,
   "id": "34e38f3b",
   "metadata": {},
   "outputs": [],
   "source": [
    "data = pd.read_csv('human_cognitive_performance.csv', sep=',')"
   ]
  },
  {
   "cell_type": "code",
   "execution_count": null,
   "id": "02ac63d2",
   "metadata": {},
   "outputs": [],
   "source": [
    "for i in data.columns: # Recorre las columnas y las describe\n",
    "    print(i)\n",
    "    print(data[i].describe())\n",
    "    print('---------------------------------') "
   ]
  },
  {
   "cell_type": "code",
   "execution_count": null,
   "id": "6fd39c86",
   "metadata": {},
   "outputs": [],
   "source": [
    "data.dtypes"
   ]
  },
  {
   "cell_type": "code",
   "execution_count": 13,
   "id": "e8f193c1",
   "metadata": {},
   "outputs": [
    {
     "data": {
      "text/plain": [
       "User_ID               0\n",
       "Age                   0\n",
       "Gender                0\n",
       "Sleep_Duration        0\n",
       "Stress_Level          0\n",
       "Diet_Type             0\n",
       "Daily_Screen_Time     0\n",
       "Exercise_Frequency    0\n",
       "Caffeine_Intake       0\n",
       "Reaction_Time         0\n",
       "Memory_Test_Score     0\n",
       "Cognitive_Score       0\n",
       "AI_Predicted_Score    0\n",
       "dtype: int64"
      ]
     },
     "execution_count": 13,
     "metadata": {},
     "output_type": "execute_result"
    }
   ],
   "source": [
    "data.isnull().sum() # Muestra la cantidad de valores nulos por columna"
   ]
  }
 ],
 "metadata": {
  "kernelspec": {
   "display_name": "Python 3",
   "language": "python",
   "name": "python3"
  },
  "language_info": {
   "codemirror_mode": {
    "name": "ipython",
    "version": 3
   },
   "file_extension": ".py",
   "mimetype": "text/x-python",
   "name": "python",
   "nbconvert_exporter": "python",
   "pygments_lexer": "ipython3",
   "version": "3.13.2"
  }
 },
 "nbformat": 4,
 "nbformat_minor": 5
}
