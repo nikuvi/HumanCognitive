{
 "cells": [
  {
   "cell_type": "markdown",
   "id": "53ab0318",
   "metadata": {},
   "source": [
    "# Librerias"
   ]
  },
  {
   "cell_type": "code",
   "execution_count": null,
   "id": "a1bc095c",
   "metadata": {},
   "outputs": [],
   "source": [
    "import numpy as np\n",
    "import pandas as pd \n",
    "import matplotlib.pyplot as plt\n",
    "import seaborn as sns\n",
    "\n",
    "import warnings\n",
    "warnings.filterwarnings(\"ignore\")"
   ]
  },
  {
   "cell_type": "markdown",
   "id": "e0e7f8cd",
   "metadata": {},
   "source": [
    "## Carga de archivos csv"
   ]
  },
  {
   "cell_type": "code",
   "execution_count": null,
   "id": "dc9dfbae",
   "metadata": {},
   "outputs": [],
   "source": [
    "data = pd.read_csv('csv_limpios\\human_cognitive_performance.csv\\human_cognitive_performance_procesado.csv')\n",
    "dataraw = pd.read_csv('csv_originales\\human_cognitive_performance.csv')"
   ]
  },
  {
   "cell_type": "code",
   "execution_count": null,
   "id": "927c9205",
   "metadata": {},
   "outputs": [],
   "source": [
    "# Verificar si hay outliers en las columnas que terminan con '_outlier'\n",
    "columnas_outlier = [col for col in data.columns if col.endswith('_outlier')]\n",
    "tiene_outliers = data[columnas_outlier].any().any()\n",
    "\n",
    "print(f\"¿Hay outliers en la tabla? {tiene_outliers}\")"
   ]
  },
  {
   "cell_type": "code",
   "execution_count": null,
   "id": "c0311b56",
   "metadata": {},
   "outputs": [],
   "source": [
    "# Encuentra y elimina columnas que contengan 'outlier' ya que no las necesitamos\n",
    "columnas_outlier = [col for col in data.columns if 'outlier' in col]\n",
    "df = data.drop(columns=columnas_outlier)\n",
    "\n",
    "print(f\"Se eliminaron {len(columnas_outlier)} columnas: {columnas_outlier}\")"
   ]
  },
  {
   "cell_type": "code",
   "execution_count": null,
   "id": "cbeb9324",
   "metadata": {},
   "outputs": [],
   "source": [
    "# Guardar el DataFrame limpio en archivo CSV\n",
    "df.to_csv('csv_limpios\\human_cognitive_performance.csv\\human_cognitive_performance_procesado.csv', index=False, encoding='utf-8')"
   ]
  },
  {
   "cell_type": "markdown",
   "id": "e2afc1c1",
   "metadata": {},
   "source": [
    "# Graficos"
   ]
  },
  {
   "cell_type": "code",
   "execution_count": null,
   "id": "5935434c",
   "metadata": {},
   "outputs": [],
   "source": []
  }
 ],
 "metadata": {
  "kernelspec": {
   "display_name": "Python 3",
   "language": "python",
   "name": "python3"
  },
  "language_info": {
   "codemirror_mode": {
    "name": "ipython",
    "version": 3
   },
   "file_extension": ".py",
   "mimetype": "text/x-python",
   "name": "python",
   "nbconvert_exporter": "python",
   "pygments_lexer": "ipython3",
   "version": "3.13.2"
  }
 },
 "nbformat": 4,
 "nbformat_minor": 5
}
